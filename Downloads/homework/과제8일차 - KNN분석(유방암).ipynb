{
 "cells": [
  {
   "cell_type": "code",
   "execution_count": 19,
   "metadata": {},
   "outputs": [],
   "source": [
    "import pandas as pd\n",
    "import numpy as np\n",
    "# KNN 패키지\n",
    "from sklearn.neighbors import KNeighborsClassifier\n",
    "#데이터 시각화\n",
    "import seaborn as sns\n",
    "import matplotlib.pyplot as plt\n",
    "from sklearn.model_selection import train_test_split"
   ]
  },
  {
   "cell_type": "code",
   "execution_count": 20,
   "metadata": {},
   "outputs": [],
   "source": [
    "#데이터 불러오기\n",
    "ds_hmeq = pd.read_csv(\"../../실습화일/유방암.csv\")\n"
   ]
  },
  {
   "cell_type": "code",
   "execution_count": 21,
   "metadata": {},
   "outputs": [
    {
     "name": "stdout",
     "output_type": "stream",
     "text": [
      "train data X size : (398, 30)\n",
      "train data Y size : (398,)\n",
      "test data X size : (171, 30)\n",
      "test data Y size : (171,)\n"
     ]
    }
   ],
   "source": [
    "#get_dummies : 데이터의 문자형 컬럼에 대한 더미변수 생성\n",
    "ds_hmeq_dummy = pd.get_dummies(ds_hmeq)\n",
    "#더미변수 생성된 데이터의 상위 5개 row를 확인\n",
    "ds_hmeq_dummy.head()\n",
    "#dummy 변수로부터 변수 역할 지정\n",
    "ds_hmeq_y = ds_hmeq_dummy[\"diagnosis\"]\n",
    "ds_hmeq_x = ds_hmeq_dummy.drop(\"diagnosis\", axis = 1, inplace = False)\n",
    "#train_test_split(X: 설명변수 데이터, Y: 목표변수 데이터, test_size = test 데이터비율, random_state : 랜덤)\n",
    "ds_hmeq_train_x, ds_hmeq_test_x, ds_hmeq_train_y, ds_hmeq_test_y =\\\n",
    "train_test_split(ds_hmeq_x, ds_hmeq_y, test_size = 0.30, random_state = 1234)\n",
    "\n",
    "print(\"train data X size : {}\".format(ds_hmeq_train_x.shape))\n",
    "print(\"train data Y size : {}\".format(ds_hmeq_train_y.shape))\n",
    "print(\"test data X size : {}\".format(ds_hmeq_test_x.shape))\n",
    "print(\"test data Y size : {}\".format(ds_hmeq_test_y.shape))"
   ]
  },
  {
   "cell_type": "code",
   "execution_count": 22,
   "metadata": {},
   "outputs": [
    {
     "data": {
      "text/plain": [
       "KNeighborsClassifier(algorithm='auto', leaf_size=30, metric='minkowski',\n",
       "           metric_params=None, n_jobs=8, n_neighbors=5, p=2,\n",
       "           weights='uniform')"
      ]
     },
     "execution_count": 22,
     "metadata": {},
     "output_type": "execute_result"
    }
   ],
   "source": [
    "#KNN모델 생성(default 설정)\n",
    "knn_uncusotomized = KNeighborsClassifier(n_jobs = 8)\n",
    "knn_uncusotomized"
   ]
  },
  {
   "cell_type": "code",
   "execution_count": 23,
   "metadata": {
    "scrolled": false
   },
   "outputs": [
    {
     "name": "stdout",
     "output_type": "stream",
     "text": [
      "predict test set:[1, 1, 1, 1, 1, 1, 0, 1, 0, 0]\n",
      "test set label:[1, 1, 1, 1, 1, 1, 0, 1, 0, 0]\n",
      "accuracy:0.936\n"
     ]
    }
   ],
   "source": [
    "#데이터 적합\n",
    "knn_uncusotomized.fit(ds_hmeq_train_x, ds_hmeq_train_y)\n",
    "#test 데이터로 예측\n",
    "y_pred = knn_uncusotomized.predict(ds_hmeq_test_x)\n",
    "print(\"predict test set:{}\".format(y_pred.tolist()[:10]))\n",
    "print(\"test set label:{}\".format(ds_hmeq_test_y.tolist()[:10]))\n",
    "print(\"accuracy:{0:.3f}\".format(knn_uncusotomized.score(ds_hmeq_test_x, ds_hmeq_test_y)))\n"
   ]
  },
  {
   "cell_type": "code",
   "execution_count": 24,
   "metadata": {},
   "outputs": [
    {
     "data": {
      "text/html": [
       "<div>\n",
       "<style scoped>\n",
       "    .dataframe tbody tr th:only-of-type {\n",
       "        vertical-align: middle;\n",
       "    }\n",
       "\n",
       "    .dataframe tbody tr th {\n",
       "        vertical-align: top;\n",
       "    }\n",
       "\n",
       "    .dataframe thead th {\n",
       "        text-align: right;\n",
       "    }\n",
       "</style>\n",
       "<table border=\"1\" class=\"dataframe\">\n",
       "  <thead>\n",
       "    <tr style=\"text-align: right;\">\n",
       "      <th></th>\n",
       "      <th>Neighbors</th>\n",
       "      <th>TrainAccuracy</th>\n",
       "      <th>TestAccuracy</th>\n",
       "    </tr>\n",
       "  </thead>\n",
       "  <tbody>\n",
       "    <tr>\n",
       "      <th>0</th>\n",
       "      <td>1</td>\n",
       "      <td>1.000000</td>\n",
       "      <td>0.918129</td>\n",
       "    </tr>\n",
       "    <tr>\n",
       "      <th>1</th>\n",
       "      <td>2</td>\n",
       "      <td>0.977387</td>\n",
       "      <td>0.912281</td>\n",
       "    </tr>\n",
       "    <tr>\n",
       "      <th>2</th>\n",
       "      <td>3</td>\n",
       "      <td>0.952261</td>\n",
       "      <td>0.929825</td>\n",
       "    </tr>\n",
       "    <tr>\n",
       "      <th>3</th>\n",
       "      <td>4</td>\n",
       "      <td>0.952261</td>\n",
       "      <td>0.941520</td>\n",
       "    </tr>\n",
       "    <tr>\n",
       "      <th>4</th>\n",
       "      <td>5</td>\n",
       "      <td>0.944724</td>\n",
       "      <td>0.935673</td>\n",
       "    </tr>\n",
       "    <tr>\n",
       "      <th>5</th>\n",
       "      <td>6</td>\n",
       "      <td>0.939698</td>\n",
       "      <td>0.959064</td>\n",
       "    </tr>\n",
       "    <tr>\n",
       "      <th>6</th>\n",
       "      <td>7</td>\n",
       "      <td>0.937186</td>\n",
       "      <td>0.941520</td>\n",
       "    </tr>\n",
       "    <tr>\n",
       "      <th>7</th>\n",
       "      <td>8</td>\n",
       "      <td>0.939698</td>\n",
       "      <td>0.947368</td>\n",
       "    </tr>\n",
       "    <tr>\n",
       "      <th>8</th>\n",
       "      <td>9</td>\n",
       "      <td>0.939698</td>\n",
       "      <td>0.929825</td>\n",
       "    </tr>\n",
       "    <tr>\n",
       "      <th>9</th>\n",
       "      <td>10</td>\n",
       "      <td>0.942211</td>\n",
       "      <td>0.935673</td>\n",
       "    </tr>\n",
       "    <tr>\n",
       "      <th>10</th>\n",
       "      <td>11</td>\n",
       "      <td>0.939698</td>\n",
       "      <td>0.935673</td>\n",
       "    </tr>\n",
       "    <tr>\n",
       "      <th>11</th>\n",
       "      <td>12</td>\n",
       "      <td>0.939698</td>\n",
       "      <td>0.941520</td>\n",
       "    </tr>\n",
       "    <tr>\n",
       "      <th>12</th>\n",
       "      <td>13</td>\n",
       "      <td>0.934673</td>\n",
       "      <td>0.923977</td>\n",
       "    </tr>\n",
       "    <tr>\n",
       "      <th>13</th>\n",
       "      <td>14</td>\n",
       "      <td>0.932161</td>\n",
       "      <td>0.929825</td>\n",
       "    </tr>\n",
       "    <tr>\n",
       "      <th>14</th>\n",
       "      <td>15</td>\n",
       "      <td>0.932161</td>\n",
       "      <td>0.923977</td>\n",
       "    </tr>\n",
       "    <tr>\n",
       "      <th>15</th>\n",
       "      <td>16</td>\n",
       "      <td>0.934673</td>\n",
       "      <td>0.929825</td>\n",
       "    </tr>\n",
       "    <tr>\n",
       "      <th>16</th>\n",
       "      <td>17</td>\n",
       "      <td>0.929648</td>\n",
       "      <td>0.923977</td>\n",
       "    </tr>\n",
       "    <tr>\n",
       "      <th>17</th>\n",
       "      <td>18</td>\n",
       "      <td>0.929648</td>\n",
       "      <td>0.923977</td>\n",
       "    </tr>\n",
       "    <tr>\n",
       "      <th>18</th>\n",
       "      <td>19</td>\n",
       "      <td>0.932161</td>\n",
       "      <td>0.923977</td>\n",
       "    </tr>\n",
       "    <tr>\n",
       "      <th>19</th>\n",
       "      <td>20</td>\n",
       "      <td>0.932161</td>\n",
       "      <td>0.929825</td>\n",
       "    </tr>\n",
       "    <tr>\n",
       "      <th>20</th>\n",
       "      <td>21</td>\n",
       "      <td>0.924623</td>\n",
       "      <td>0.923977</td>\n",
       "    </tr>\n",
       "    <tr>\n",
       "      <th>21</th>\n",
       "      <td>22</td>\n",
       "      <td>0.924623</td>\n",
       "      <td>0.923977</td>\n",
       "    </tr>\n",
       "    <tr>\n",
       "      <th>22</th>\n",
       "      <td>23</td>\n",
       "      <td>0.922111</td>\n",
       "      <td>0.912281</td>\n",
       "    </tr>\n",
       "    <tr>\n",
       "      <th>23</th>\n",
       "      <td>24</td>\n",
       "      <td>0.922111</td>\n",
       "      <td>0.912281</td>\n",
       "    </tr>\n",
       "    <tr>\n",
       "      <th>24</th>\n",
       "      <td>25</td>\n",
       "      <td>0.919598</td>\n",
       "      <td>0.912281</td>\n",
       "    </tr>\n",
       "    <tr>\n",
       "      <th>25</th>\n",
       "      <td>26</td>\n",
       "      <td>0.922111</td>\n",
       "      <td>0.912281</td>\n",
       "    </tr>\n",
       "    <tr>\n",
       "      <th>26</th>\n",
       "      <td>27</td>\n",
       "      <td>0.919598</td>\n",
       "      <td>0.900585</td>\n",
       "    </tr>\n",
       "    <tr>\n",
       "      <th>27</th>\n",
       "      <td>28</td>\n",
       "      <td>0.919598</td>\n",
       "      <td>0.906433</td>\n",
       "    </tr>\n",
       "    <tr>\n",
       "      <th>28</th>\n",
       "      <td>29</td>\n",
       "      <td>0.914573</td>\n",
       "      <td>0.900585</td>\n",
       "    </tr>\n",
       "    <tr>\n",
       "      <th>29</th>\n",
       "      <td>30</td>\n",
       "      <td>0.919598</td>\n",
       "      <td>0.906433</td>\n",
       "    </tr>\n",
       "  </tbody>\n",
       "</table>\n",
       "</div>"
      ],
      "text/plain": [
       "    Neighbors  TrainAccuracy  TestAccuracy\n",
       "0           1       1.000000      0.918129\n",
       "1           2       0.977387      0.912281\n",
       "2           3       0.952261      0.929825\n",
       "3           4       0.952261      0.941520\n",
       "4           5       0.944724      0.935673\n",
       "5           6       0.939698      0.959064\n",
       "6           7       0.937186      0.941520\n",
       "7           8       0.939698      0.947368\n",
       "8           9       0.939698      0.929825\n",
       "9          10       0.942211      0.935673\n",
       "10         11       0.939698      0.935673\n",
       "11         12       0.939698      0.941520\n",
       "12         13       0.934673      0.923977\n",
       "13         14       0.932161      0.929825\n",
       "14         15       0.932161      0.923977\n",
       "15         16       0.934673      0.929825\n",
       "16         17       0.929648      0.923977\n",
       "17         18       0.929648      0.923977\n",
       "18         19       0.932161      0.923977\n",
       "19         20       0.932161      0.929825\n",
       "20         21       0.924623      0.923977\n",
       "21         22       0.924623      0.923977\n",
       "22         23       0.922111      0.912281\n",
       "23         24       0.922111      0.912281\n",
       "24         25       0.919598      0.912281\n",
       "25         26       0.922111      0.912281\n",
       "26         27       0.919598      0.900585\n",
       "27         28       0.919598      0.906433\n",
       "28         29       0.914573      0.900585\n",
       "29         30       0.919598      0.906433"
      ]
     },
     "execution_count": 24,
     "metadata": {},
     "output_type": "execute_result"
    }
   ],
   "source": [
    "#최대 이웃 수\n",
    "max_n_neighbors = 30  # 반복 수행할 리스트(1~10)\n",
    "para_n_neighbors = [i+1 for i in range(max_n_neighbors)]\n",
    "train_accuracy = []\n",
    "test_accuracy = []\n",
    "#반복문\n",
    "for n_neighbors in para_n_neighbors:\n",
    "    #이웃 1~10개까지 지정하여 모델 생성\n",
    "    clf = KNeighborsClassifier(n_neighbors = n_neighbors)\n",
    "    clf.fit(ds_hmeq_train_x, ds_hmeq_train_y)\n",
    "    #train data 정확도\n",
    "    train_accuracy.append(clf.score(ds_hmeq_train_x, ds_hmeq_train_y))\n",
    "    #test data 정확도\n",
    "    test_accuracy.append(clf.score(ds_hmeq_test_x, ds_hmeq_test_y))\n",
    "#DataFrame 변환\n",
    "ds_neighbors = pd.DataFrame()\n",
    "ds_neighbors[\"Neighbors\"] = para_n_neighbors\n",
    "ds_neighbors[\"TrainAccuracy\"] = train_accuracy\n",
    "ds_neighbors[\"TestAccuracy\"] = test_accuracy\n",
    "ds_neighbors"
   ]
  },
  {
   "cell_type": "code",
   "execution_count": 25,
   "metadata": {},
   "outputs": [
    {
     "data": {
      "text/plain": [
       "<matplotlib.axes._subplots.AxesSubplot at 0x7f0368c6d3c8>"
      ]
     },
     "execution_count": 25,
     "metadata": {},
     "output_type": "execute_result"
    },
    {
     "data": {
      "image/png": "[encoded data removed]",
      "text/plain": [
       "<Figure size 432x288 with 1 Axes>"
      ]
     },
     "metadata": {
      "needs_background": "light"
     },
     "output_type": "display_data"
    }
   ],
   "source": [
    "#그래프 생성\n",
    "ds_neighbors.set_index(\"Neighbors\", inplace = False).plot()"
   ]
  },
  {
   "cell_type": "code",
   "execution_count": null,
   "metadata": {},
   "outputs": [],
   "source": [
    "약 30개의 neighbor 를 하여 test와 training 데이터를 진행하였고, 약 6개의 neighbor일 때, testAccuracy의 성능이 가장 높은것을 알 수 있다.참고로 neighbor이 낮을땐 과대적합, neighbor이 높아질수록 과소적합이 된다.\n",
    "따라서 최적의 이웃 수는 6개라고 할 수 있다."
   ]
  },
  {
   "cell_type": "code",
   "execution_count": null,
   "metadata": {},
   "outputs": [],
   "source": []
  }
 ],
 "metadata": {
  "kernelspec": {
   "display_name": "py35",
   "language": "python",
   "name": "py35"
  },
  "language_info": {
   "codemirror_mode": {
    "name": "ipython",
    "version": 3
   },
   "file_extension": ".py",
   "mimetype": "text/x-python",
   "name": "python",
   "nbconvert_exporter": "python",
   "pygments_lexer": "ipython3",
   "version": "3.5.6"
  }
 },
 "nbformat": 4,
 "nbformat_minor": 2
}
